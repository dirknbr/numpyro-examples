{
  "nbformat": 4,
  "nbformat_minor": 0,
  "metadata": {
    "colab": {
      "name": "numypro local trend",
      "provenance": [],
      "collapsed_sections": [],
      "authorship_tag": "ABX9TyNngqXlEzavDU16N9V9TnwQ",
      "include_colab_link": true
    },
    "kernelspec": {
      "name": "python3",
      "display_name": "Python 3"
    },
    "language_info": {
      "name": "python"
    }
  },
  "cells": [
    {
      "cell_type": "markdown",
      "metadata": {
        "id": "view-in-github",
        "colab_type": "text"
      },
      "source": [
        "<a href=\"https://colab.research.google.com/github/dirknbr/numpyro-examples/blob/main/numypro_local_trend.ipynb\" target=\"_parent\"><img src=\"https://colab.research.google.com/assets/colab-badge.svg\" alt=\"Open In Colab\"/></a>"
      ]
    },
    {
      "cell_type": "markdown",
      "metadata": {
        "id": "qq5aBHEm-D6f"
      },
      "source": [
        "# Estimate a time varying parameter in numpyro\n",
        "\n",
        "$y_t \\sim N(\\mu_t, \\sigma)$\n",
        "\n",
        "where mu has a random walk\n",
        "\n",
        "$\\mu_t \\sim N(\\mu_{t-1}, 1)$\n",
        "\n",
        "We initialise\n",
        "\n",
        "$\\mu_0 \\sim N(10, 1)$\n",
        "\n",
        "which informs the first $\\mu_1$\n"
      ]
    },
    {
      "cell_type": "code",
      "metadata": {
        "colab": {
          "base_uri": "https://localhost:8080/"
        },
        "id": "93cyBLPQ0u3M",
        "outputId": "f5625d19-0734-42e9-b170-6624f787f827"
      },
      "source": [
        "!pip install numpyro"
      ],
      "execution_count": null,
      "outputs": [
        {
          "output_type": "stream",
          "name": "stdout",
          "text": [
            "Requirement already satisfied: numpyro in /usr/local/lib/python3.7/dist-packages (0.8.0)\n",
            "Requirement already satisfied: jaxlib>=0.1.65 in /usr/local/lib/python3.7/dist-packages (from numpyro) (0.1.71+cuda111)\n",
            "Requirement already satisfied: jax>=0.2.13 in /usr/local/lib/python3.7/dist-packages (from numpyro) (0.2.21)\n",
            "Requirement already satisfied: tqdm in /usr/local/lib/python3.7/dist-packages (from numpyro) (4.62.3)\n",
            "Requirement already satisfied: scipy>=1.2.1 in /usr/local/lib/python3.7/dist-packages (from jax>=0.2.13->numpyro) (1.4.1)\n",
            "Requirement already satisfied: absl-py in /usr/local/lib/python3.7/dist-packages (from jax>=0.2.13->numpyro) (0.12.0)\n",
            "Requirement already satisfied: numpy>=1.18 in /usr/local/lib/python3.7/dist-packages (from jax>=0.2.13->numpyro) (1.19.5)\n",
            "Requirement already satisfied: opt-einsum in /usr/local/lib/python3.7/dist-packages (from jax>=0.2.13->numpyro) (3.3.0)\n",
            "Requirement already satisfied: flatbuffers<3.0,>=1.12 in /usr/local/lib/python3.7/dist-packages (from jaxlib>=0.1.65->numpyro) (1.12)\n",
            "Requirement already satisfied: six in /usr/local/lib/python3.7/dist-packages (from absl-py->jax>=0.2.13->numpyro) (1.15.0)\n"
          ]
        }
      ]
    },
    {
      "cell_type": "code",
      "metadata": {
        "id": "56gJhv_p02vz"
      },
      "source": [
        "# http://num.pyro.ai/en/latest/tutorials/time_series_forecasting.html\n",
        "\n",
        "import numpy as np\n",
        "import jax.numpy as jnp\n",
        "from jax import random\n",
        "import arviz\n",
        "\n",
        "import numpyro\n",
        "import numpyro.distributions as dist\n",
        "from numpyro.contrib.control_flow import scan\n",
        "from numpyro.diagnostics import autocorrelation, hpdi\n",
        "from numpyro.infer import MCMC, NUTS, Predictive\n",
        "\n",
        "\n",
        "# after 5 we go up\n",
        "\n",
        "y = np.random.normal(10, 1, size=10) + 2 * (np.arange(10) >= 5)\n",
        "\n",
        "# http://num.pyro.ai/en/stable/primitives.html\n",
        "\n",
        "def model(y=None):\n",
        "  # mu = numpyro.sample('mu', dist.Normal(0, 10))\n",
        "  sigma = numpyro.sample('sigma', dist.Gamma(2, 1))\n",
        "  def trans_fn(prev, y_cur):\n",
        "    mu = numpyro.sample('mu', dist.Normal(prev, 1))\n",
        "    y_cur = numpyro.sample('obs', dist.Normal(mu, sigma), obs=y_cur)\n",
        "    return mu, (mu, y_cur)\n",
        "  mu0 = numpyro.sample('mu0', dist.Normal(10, 10))\n",
        "  _, (mu, y) = scan(trans_fn, mu0, y, length=10)\n",
        "  return mu, y\n"
      ],
      "execution_count": null,
      "outputs": []
    },
    {
      "cell_type": "code",
      "metadata": {
        "colab": {
          "base_uri": "https://localhost:8080/"
        },
        "id": "ktwFsGlfmzZJ",
        "outputId": "6d0918b5-efcf-40d5-ce69-78728a1829f8"
      },
      "source": [
        "kernel = NUTS(model)\n",
        "mcmc = MCMC(kernel, num_warmup=500, num_samples=1000, num_chains=2)\n",
        "mcmc.run(random.PRNGKey(0), y)\n",
        "mcmc.print_summary()\n",
        "samples = mcmc.get_samples()"
      ],
      "execution_count": null,
      "outputs": [
        {
          "output_type": "stream",
          "name": "stderr",
          "text": [
            "/usr/local/lib/python3.7/dist-packages/numpyro/infer/mcmc.py:280: UserWarning: There are not enough devices to run parallel chains: expected 2 but got 1. Chains will be drawn sequentially. If you are running MCMC in CPU, consider using `numpyro.set_host_device_count(2)` at the beginning of your program. You can double-check how many devices are available in your system using `jax.local_device_count()`.\n",
            "  self.num_chains, local_device_count(), self.num_chains\n",
            "sample: 100%|██████████| 1500/1500 [00:03<00:00, 418.50it/s, 15 steps of size 3.33e-01. acc. prob=0.87]\n",
            "sample: 100%|██████████| 1500/1500 [00:00<00:00, 5843.80it/s, 15 steps of size 3.18e-01. acc. prob=0.90]"
          ]
        },
        {
          "output_type": "stream",
          "name": "stdout",
          "text": [
            "\n",
            "                mean       std    median      5.0%     95.0%     n_eff     r_hat\n",
            "     mu[0]      9.74      0.73      9.81      8.53     10.85   1013.55      1.00\n",
            "     mu[1]      9.20      0.64      9.16      8.15     10.22   1017.74      1.00\n",
            "     mu[2]      8.70      0.71      8.61      7.68      9.90    623.59      1.00\n",
            "     mu[3]      9.20      0.65      9.12      8.16     10.26    900.61      1.00\n",
            "     mu[4]     10.11      0.63     10.08      9.08     11.18   1684.86      1.00\n",
            "     mu[5]     11.65      0.75     11.72     10.44     12.78    548.94      1.00\n",
            "     mu[6]     11.39      0.64     11.38     10.33     12.39   1361.48      1.00\n",
            "     mu[7]     11.56      0.62     11.55     10.66     12.68   1275.96      1.00\n",
            "     mu[8]     11.99      0.69     12.09     10.87     13.05   1033.46      1.00\n",
            "     mu[9]     11.52      0.77     11.48     10.29     12.78   1364.81      1.00\n",
            "       mu0      9.75      1.22      9.78      7.70     11.65   1491.46      1.00\n",
            "     sigma      0.87      0.43      0.82      0.12      1.41    230.07      1.00\n",
            "\n",
            "Number of divergences: 0\n"
          ]
        },
        {
          "output_type": "stream",
          "name": "stderr",
          "text": [
            "\n"
          ]
        }
      ]
    },
    {
      "cell_type": "code",
      "metadata": {
        "colab": {
          "base_uri": "https://localhost:8080/",
          "height": 496
        },
        "id": "5lk66VAI09YA",
        "outputId": "5c6b8d4e-83ce-42df-c18b-acd9175a7177"
      },
      "source": [
        "inf = arviz.from_numpyro(mcmc)\n",
        "arviz.plot_forest(inf, combined=True)"
      ],
      "execution_count": null,
      "outputs": [
        {
          "output_type": "execute_result",
          "data": {
            "text/plain": [
              "array([<matplotlib.axes._subplots.AxesSubplot object at 0x7fa04f055f50>],\n",
              "      dtype=object)"
            ]
          },
          "metadata": {},
          "execution_count": 36
        },
        {
          "output_type": "display_data",
          "data": {
            "image/png": "[encoded data removed]",
            "text/plain": [
              "<Figure size 432x518.4 with 1 Axes>"
            ]
          },
          "metadata": {
            "needs_background": "light"
          }
        }
      ]
    }
  ]
}