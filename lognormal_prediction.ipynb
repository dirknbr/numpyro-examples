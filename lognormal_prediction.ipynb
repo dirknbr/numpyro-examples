{
  "nbformat": 4,
  "nbformat_minor": 0,
  "metadata": {
    "colab": {
      "name": "lognormal prediction",
      "provenance": [],
      "collapsed_sections": [],
      "authorship_tag": "ABX9TyPR41oSQ8q03eom+W45dDGd",
      "include_colab_link": true
    },
    "kernelspec": {
      "name": "python3",
      "display_name": "Python 3"
    },
    "language_info": {
      "name": "python"
    }
  },
  "cells": [
    {
      "cell_type": "markdown",
      "metadata": {
        "id": "view-in-github",
        "colab_type": "text"
      },
      "source": [
        "<a href=\"https://colab.research.google.com/github/dirknbr/numpyro-examples/blob/main/lognormal_prediction.ipynb\" target=\"_parent\"><img src=\"https://colab.research.google.com/assets/colab-badge.svg\" alt=\"Open In Colab\"/></a>"
      ]
    },
    {
      "cell_type": "markdown",
      "metadata": {
        "id": "RApcDh2_jssT"
      },
      "source": [
        "# Log normal model and prediction\n",
        "\n",
        "Our true model is lognormal, we have a relationship between x and y. We estimate a naive normal model and the proper lognormal model. We check\n",
        "posterior predictions."
      ]
    },
    {
      "cell_type": "code",
      "metadata": {
        "colab": {
          "base_uri": "https://localhost:8080/"
        },
        "id": "6rFa2Pk_IMYM",
        "outputId": "49256f5b-c85d-4fa2-c059-38340080f66a"
      },
      "source": [
        "!pip install numpyro"
      ],
      "execution_count": 49,
      "outputs": [
        {
          "output_type": "stream",
          "name": "stdout",
          "text": [
            "Requirement already satisfied: numpyro in /usr/local/lib/python3.7/dist-packages (0.8.0)\n",
            "Requirement already satisfied: tqdm in /usr/local/lib/python3.7/dist-packages (from numpyro) (4.62.3)\n",
            "Requirement already satisfied: jax>=0.2.13 in /usr/local/lib/python3.7/dist-packages (from numpyro) (0.2.21)\n",
            "Requirement already satisfied: jaxlib>=0.1.65 in /usr/local/lib/python3.7/dist-packages (from numpyro) (0.1.71+cuda111)\n",
            "Requirement already satisfied: numpy>=1.18 in /usr/local/lib/python3.7/dist-packages (from jax>=0.2.13->numpyro) (1.19.5)\n",
            "Requirement already satisfied: opt-einsum in /usr/local/lib/python3.7/dist-packages (from jax>=0.2.13->numpyro) (3.3.0)\n",
            "Requirement already satisfied: scipy>=1.2.1 in /usr/local/lib/python3.7/dist-packages (from jax>=0.2.13->numpyro) (1.4.1)\n",
            "Requirement already satisfied: absl-py in /usr/local/lib/python3.7/dist-packages (from jax>=0.2.13->numpyro) (0.12.0)\n",
            "Requirement already satisfied: flatbuffers<3.0,>=1.12 in /usr/local/lib/python3.7/dist-packages (from jaxlib>=0.1.65->numpyro) (1.12)\n",
            "Requirement already satisfied: six in /usr/local/lib/python3.7/dist-packages (from absl-py->jax>=0.2.13->numpyro) (1.15.0)\n"
          ]
        }
      ]
    },
    {
      "cell_type": "code",
      "metadata": {
        "colab": {
          "base_uri": "https://localhost:8080/",
          "height": 387
        },
        "id": "E50jP2z9IEZR",
        "outputId": "9590af16-174e-4eab-a4d7-847c37f92477"
      },
      "source": [
        "import numpy as np\n",
        "import jax.numpy as jnp\n",
        "from jax import random\n",
        "import arviz\n",
        "import matplotlib.pyplot as plt\n",
        "\n",
        "import numpyro\n",
        "import numpyro.distributions as dist\n",
        "from numpyro.contrib.control_flow import scan\n",
        "from numpyro.diagnostics import autocorrelation, hpdi\n",
        "from numpyro.infer import MCMC, NUTS, Predictive\n",
        "\n",
        "n = 100\n",
        "x = np.random.normal(1, 1, size=n)\n",
        "y = np.exp(np.random.normal(1 + x, 1.1, size=n))\n",
        "\n",
        "print(y.mean(), y.min())\n",
        "plt.hist(y, density=True)"
      ],
      "execution_count": 50,
      "outputs": [
        {
          "output_type": "stream",
          "name": "stdout",
          "text": [
            "17.70116583575283 0.5223152095199134\n"
          ]
        },
        {
          "output_type": "execute_result",
          "data": {
            "text/plain": [
              "(array([0.03784577, 0.00630763, 0.00194081, 0.0004852 , 0.        ,\n",
              "        0.0004852 , 0.        , 0.0004852 , 0.0004852 , 0.0004852 ]),\n",
              " array([  0.52231521,  21.13227859,  41.74224197,  62.35220535,\n",
              "         82.96216873, 103.57213211, 124.18209549, 144.79205887,\n",
              "        165.40202225, 186.01198563, 206.62194901]),\n",
              " <a list of 10 Patch objects>)"
            ]
          },
          "metadata": {},
          "execution_count": 50
        },
        {
          "output_type": "display_data",
          "data": {
            "image/png": "[encoded data removed]",
            "text/plain": [
              "<Figure size 432x288 with 1 Axes>"
            ]
          },
          "metadata": {
            "needs_background": "light"
          }
        }
      ]
    },
    {
      "cell_type": "code",
      "metadata": {
        "colab": {
          "base_uri": "https://localhost:8080/"
        },
        "id": "8Fka6IXdjJl4",
        "outputId": "b5683c43-9e80-4684-f15b-c38773b999d6"
      },
      "source": [
        "# theoretical mean\n",
        "mu = (1 + x).mean()\n",
        "np.exp(mu + 1.1 ** 2 / 2)"
      ],
      "execution_count": 59,
      "outputs": [
        {
          "output_type": "execute_result",
          "data": {
            "text/plain": [
              "15.063227621444266"
            ]
          },
          "metadata": {},
          "execution_count": 59
        }
      ]
    },
    {
      "cell_type": "code",
      "metadata": {
        "id": "iRsZYpxWJMnY"
      },
      "source": [
        "# model 1 is normal, model 2 is lognormal\n",
        "\n",
        "def model1(x=None, y=None):\n",
        "  a = numpyro.sample('a', dist.Normal(0, 1))\n",
        "  b = numpyro.sample('b', dist.Normal(0, 1))\n",
        "  sigma = numpyro.sample('sigma', dist.Gamma(2, 1))\n",
        "  mu = a + b * x\n",
        "  pred = numpyro.sample('pred', dist.Normal(mu, sigma), obs=y)\n",
        "\n",
        "def model2(x=None, y=None):\n",
        "  a = numpyro.sample('a', dist.Normal(0, 1))\n",
        "  b = numpyro.sample('b', dist.Normal(0, 1))\n",
        "  sigma = numpyro.sample('sigma', dist.Gamma(2, 1))\n",
        "  mu = a + b * x\n",
        "  pred = numpyro.sample('pred', dist.LogNormal(mu, sigma), obs=y)"
      ],
      "execution_count": 51,
      "outputs": []
    },
    {
      "cell_type": "code",
      "metadata": {
        "colab": {
          "base_uri": "https://localhost:8080/"
        },
        "id": "h-niYq0hKTpU",
        "outputId": "e18a5461-b85e-41d7-85e1-1b36a30bbaa4"
      },
      "source": [
        "kernel1 = NUTS(model1)\n",
        "mcmc1 = MCMC(kernel1, num_warmup=500, num_samples=1000, num_chains=2)\n",
        "mcmc1.run(random.PRNGKey(0), x, y)\n",
        "mcmc1.print_summary()\n",
        "samples1 = mcmc1.get_samples()"
      ],
      "execution_count": 52,
      "outputs": [
        {
          "output_type": "stream",
          "name": "stderr",
          "text": [
            "/usr/local/lib/python3.7/dist-packages/numpyro/infer/mcmc.py:280: UserWarning: There are not enough devices to run parallel chains: expected 2 but got 1. Chains will be drawn sequentially. If you are running MCMC in CPU, consider using `numpyro.set_host_device_count(2)` at the beginning of your program. You can double-check how many devices are available in your system using `jax.local_device_count()`.\n",
            "  self.num_chains, local_device_count(), self.num_chains\n",
            "sample: 100%|██████████| 1500/1500 [00:04<00:00, 359.99it/s, 3 steps of size 7.97e-01. acc. prob=0.91]\n",
            "sample: 100%|██████████| 1500/1500 [00:00<00:00, 6170.79it/s, 7 steps of size 9.16e-01. acc. prob=0.88]"
          ]
        },
        {
          "output_type": "stream",
          "name": "stdout",
          "text": [
            "\n",
            "                mean       std    median      5.0%     95.0%     n_eff     r_hat\n",
            "         a      1.38      0.95      1.35     -0.16      2.93   1634.31      1.00\n",
            "         b      3.14      0.93      3.16      1.45      4.49   1830.23      1.00\n",
            "     sigma     30.50      1.92     30.45     27.29     33.42   1894.84      1.00\n",
            "\n",
            "Number of divergences: 0\n"
          ]
        },
        {
          "output_type": "stream",
          "name": "stderr",
          "text": [
            "\n"
          ]
        }
      ]
    },
    {
      "cell_type": "code",
      "metadata": {
        "colab": {
          "base_uri": "https://localhost:8080/"
        },
        "id": "Zp_VmhrtKi5G",
        "outputId": "3cb4e774-1fda-443a-ff32-394a24b9dc4b"
      },
      "source": [
        "kernel2 = NUTS(model2)\n",
        "mcmc2 = MCMC(kernel2, num_warmup=500, num_samples=1000, num_chains=2)\n",
        "mcmc2.run(random.PRNGKey(0), x, y)\n",
        "mcmc2.print_summary()\n",
        "samples2 = mcmc2.get_samples()"
      ],
      "execution_count": 53,
      "outputs": [
        {
          "output_type": "stream",
          "name": "stderr",
          "text": [
            "/usr/local/lib/python3.7/dist-packages/numpyro/infer/mcmc.py:280: UserWarning: There are not enough devices to run parallel chains: expected 2 but got 1. Chains will be drawn sequentially. If you are running MCMC in CPU, consider using `numpyro.set_host_device_count(2)` at the beginning of your program. You can double-check how many devices are available in your system using `jax.local_device_count()`.\n",
            "  self.num_chains, local_device_count(), self.num_chains\n",
            "sample: 100%|██████████| 1500/1500 [00:04<00:00, 357.78it/s, 3 steps of size 4.90e-01. acc. prob=0.90]\n",
            "sample: 100%|██████████| 1500/1500 [00:00<00:00, 5646.04it/s, 7 steps of size 5.28e-01. acc. prob=0.91]"
          ]
        },
        {
          "output_type": "stream",
          "name": "stdout",
          "text": [
            "\n",
            "                mean       std    median      5.0%     95.0%     n_eff     r_hat\n",
            "         a      0.81      0.13      0.81      0.60      1.04    781.65      1.00\n",
            "         b      1.02      0.09      1.02      0.87      1.18    972.70      1.00\n",
            "     sigma      0.90      0.06      0.90      0.79      1.00   1301.15      1.00\n",
            "\n",
            "Number of divergences: 0\n"
          ]
        },
        {
          "output_type": "stream",
          "name": "stderr",
          "text": [
            "\n"
          ]
        }
      ]
    },
    {
      "cell_type": "code",
      "metadata": {
        "colab": {
          "base_uri": "https://localhost:8080/",
          "height": 354
        },
        "id": "Ge2UlK3VLlUg",
        "outputId": "8efc97da-7780-4d53-dab9-0f3b399f5a1e"
      },
      "source": [
        "# make predictions, we also get negative predictions\n",
        "\n",
        "predf1 = Predictive(model1, samples1)\n",
        "pred1 = predf1(random.PRNGKey(0), x=x)['pred']\n",
        "pred1 = pred1.mean(axis=0)\n",
        "print(arviz.r2_score(y, pred1))\n",
        "print(pred1.min())\n",
        "plt.scatter(y, pred1)"
      ],
      "execution_count": 60,
      "outputs": [
        {
          "output_type": "stream",
          "name": "stdout",
          "text": [
            "r2        0.009092\n",
            "r2_std    0.000000\n",
            "dtype: float64\n",
            "-0.97495306\n"
          ]
        },
        {
          "output_type": "execute_result",
          "data": {
            "text/plain": [
              "<matplotlib.collections.PathCollection at 0x7f3fd59bafd0>"
            ]
          },
          "metadata": {},
          "execution_count": 60
        },
        {
          "output_type": "display_data",
          "data": {
            "image/png": "[encoded data removed]",
            "text/plain": [
              "<Figure size 432x288 with 1 Axes>"
            ]
          },
          "metadata": {
            "needs_background": "light"
          }
        }
      ]
    },
    {
      "cell_type": "code",
      "metadata": {
        "colab": {
          "base_uri": "https://localhost:8080/",
          "height": 334
        },
        "id": "ma3LQT-SMxWW",
        "outputId": "cc1032e2-6675-45e4-8f05-a65b5d452a6f"
      },
      "source": [
        "predf2 = Predictive(model2, samples2)\n",
        "pred2 = predf2(random.PRNGKey(0), x=x)['pred']\n",
        "pred2 = pred2.mean(axis=0)\n",
        "print(arviz.r2_score(y, pred2))\n",
        "plt.scatter(y, pred2)"
      ],
      "execution_count": 55,
      "outputs": [
        {
          "output_type": "stream",
          "name": "stdout",
          "text": [
            "r2        0.47921\n",
            "r2_std    0.00000\n",
            "dtype: float64\n"
          ]
        },
        {
          "output_type": "execute_result",
          "data": {
            "text/plain": [
              "<matplotlib.collections.PathCollection at 0x7f3fd5c34ed0>"
            ]
          },
          "metadata": {},
          "execution_count": 55
        },
        {
          "output_type": "display_data",
          "data": {
            "image/png": "[encoded data removed]",
            "text/plain": [
              "<Figure size 432x288 with 1 Axes>"
            ]
          },
          "metadata": {
            "needs_background": "light"
          }
        }
      ]
    },
    {
      "cell_type": "code",
      "metadata": {
        "colab": {
          "base_uri": "https://localhost:8080/",
          "height": 300
        },
        "id": "R56fzZPpcTMX",
        "outputId": "9f46b884-6d22-4c78-d7a8-2c6f201d605d"
      },
      "source": [
        "# CI and counterfactual x\n",
        "# https://www.hellocybernetics.tech/entry/2020/02/23/034551\n",
        "\n",
        "xlin = np.linspace(x.min(), x.max(), 120)\n",
        "pred1_lin = predf1(random.PRNGKey(0), x=xlin)['pred']\n",
        "pred1_lin_mean = pred1_lin.mean(axis=0)\n",
        "pred1_lin_low = np.quantile(pred1_lin, .05, axis=0)\n",
        "pred1_lin_up = np.quantile(pred1_lin, .95, axis=0)\n",
        "\n",
        "print(pred1_lin_mean.shape)\n",
        "\n",
        "fig, ax = plt.subplots()\n",
        "ax.plot(xlin, pred1_lin_mean)\n",
        "ax.fill_between(xlin, pred1_lin_low, pred1_lin_up, color='b', alpha=.1)"
      ],
      "execution_count": 56,
      "outputs": [
        {
          "output_type": "stream",
          "name": "stdout",
          "text": [
            "(120,)\n"
          ]
        },
        {
          "output_type": "execute_result",
          "data": {
            "text/plain": [
              "<matplotlib.collections.PolyCollection at 0x7f3fd5b679d0>"
            ]
          },
          "metadata": {},
          "execution_count": 56
        },
        {
          "output_type": "display_data",
          "data": {
            "image/png": "[encoded data removed]",
            "text/plain": [
              "<Figure size 432x288 with 1 Axes>"
            ]
          },
          "metadata": {
            "needs_background": "light"
          }
        }
      ]
    },
    {
      "cell_type": "code",
      "metadata": {
        "colab": {
          "base_uri": "https://localhost:8080/",
          "height": 300
        },
        "id": "LHxLp_xZiptF",
        "outputId": "e53bf2b8-85cc-466e-b681-b8440198f06f"
      },
      "source": [
        "pred2_lin = predf2(random.PRNGKey(0), x=xlin)['pred']\n",
        "pred2_lin_mean = pred2_lin.mean(axis=0)\n",
        "pred2_lin_low = np.quantile(pred2_lin, .05, axis=0)\n",
        "pred2_lin_up = np.quantile(pred2_lin, .95, axis=0)\n",
        "\n",
        "print(pred2_lin_mean.shape)\n",
        "\n",
        "fig, ax = plt.subplots()\n",
        "ax.plot(xlin, pred2_lin_mean)\n",
        "ax.fill_between(xlin, pred2_lin_low, pred2_lin_up, color='b', alpha=.1)"
      ],
      "execution_count": 57,
      "outputs": [
        {
          "output_type": "stream",
          "name": "stdout",
          "text": [
            "(120,)\n"
          ]
        },
        {
          "output_type": "execute_result",
          "data": {
            "text/plain": [
              "<matplotlib.collections.PolyCollection at 0x7f3fd5a91310>"
            ]
          },
          "metadata": {},
          "execution_count": 57
        },
        {
          "output_type": "display_data",
          "data": {
            "image/png": "[encoded data removed]",
            "text/plain": [
              "<Figure size 432x288 with 1 Axes>"
            ]
          },
          "metadata": {
            "needs_background": "light"
          }
        }
      ]
    }
  ]
}